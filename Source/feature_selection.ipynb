{
 "cells": [
  {
   "cell_type": "code",
   "execution_count": 268,
   "metadata": {},
   "outputs": [],
   "source": [
    "import pandas as pd\n",
    "import numpy as np\n",
    "import matplotlib.pyplot as plt\n",
    "import seaborn as sns\n",
    "import warnings\n",
    "from sklearn.preprocessing import MinMaxScaler\n",
    "from sklearn.preprocessing import StandardScaler\n",
    "from sklearn.feature_selection import mutual_info_regression, SelectKBest,f_regression\n",
    "from sklearn.feature_selection import RFE\n",
    "from sklearn.linear_model import LinearRegression\n",
    "from sklearn.ensemble import RandomForestRegressor\n",
    "from sklearn.linear_model import Lasso, Ridge\n",
    "from sklearn.model_selection import train_test_split\n",
    "from sklearn.preprocessing import StandardScaler\n",
    "from sklearn.linear_model import ElasticNetCV\n",
    "from sklearn.model_selection import cross_val_score\n",
    "from statsmodels.stats.outliers_influence import variance_inflation_factor\n",
    "from sklearn.decomposition import PCA\n",
    "\n",
    "sns.set_palette(['#b2182b','#ef8a62','#fddbc7','#f7f7f7','#d1e5f0','#67a9cf','#2166ac'])\n",
    "pd.set_option('display.max_columns', None)\n",
    "warnings.filterwarnings('ignore')"
   ]
  },
  {
   "cell_type": "code",
   "execution_count": 315,
   "metadata": {},
   "outputs": [],
   "source": [
    "data2 = pd.read_excel('Storage2.xlsx', sheet_name='Systems')"
   ]
  },
  {
   "cell_type": "code",
   "execution_count": 270,
   "metadata": {},
   "outputs": [],
   "source": [
    "data = pd.read_csv('History2.csv')"
   ]
  },
  {
   "cell_type": "code",
   "execution_count": 271,
   "metadata": {},
   "outputs": [
    {
     "name": "stdout",
     "output_type": "stream",
     "text": [
      "<class 'pandas.core.frame.DataFrame'>\n",
      "RangeIndex: 50 entries, 0 to 49\n",
      "Data columns (total 7 columns):\n",
      " #   Column           Non-Null Count  Dtype\n",
      "---  ------           --------------  -----\n",
      " 0   SIZE             50 non-null     int64\n",
      " 1   LOAD_TPD         50 non-null     int64\n",
      " 2   ACCOUNTS_ALL     50 non-null     int64\n",
      " 3   ACCOUNTS_ACTIVE  50 non-null     int64\n",
      " 4   Non_kept_size    50 non-null     int64\n",
      " 5   Backup_size      50 non-null     int64\n",
      " 6   LongOps_min      50 non-null     int64\n",
      "dtypes: int64(7)\n",
      "memory usage: 2.9 KB\n",
      "None\n",
      "<class 'pandas.core.frame.DataFrame'>\n",
      "RangeIndex: 18 entries, 0 to 17\n",
      "Data columns (total 7 columns):\n",
      " #   Column                      Non-Null Count  Dtype \n",
      "---  ------                      --------------  ----- \n",
      " 0   Stage                       18 non-null     object\n",
      " 1   Type                        18 non-null     object\n",
      " 2   Size, Gb                    18 non-null     int64 \n",
      " 3   Data Keep, years            18 non-null     int64 \n",
      " 4   Backup retention, month     18 non-null     int64 \n",
      " 5   Depreciation period, years  18 non-null     int64 \n",
      " 6   Data retention, years       18 non-null     int64 \n",
      "dtypes: int64(5), object(2)\n",
      "memory usage: 1.1+ KB\n",
      "None\n"
     ]
    }
   ],
   "source": [
    "data = data.drop(['ID'], axis = 1)\n",
    "data = data.drop(['DATE'], axis = 1)\n",
    "data = data.drop(['SYSTEM_id'], axis = 1)\n",
    "data2 = data2.drop(['ID'], axis = 1)\n",
    "data2 = data2.drop(['Name'], axis = 1)\n",
    "data2 = data2.drop(['Description'], axis = 1)\n",
    "print(data.info())\n",
    "print(data2.info())"
   ]
  },
  {
   "cell_type": "markdown",
   "metadata": {},
   "source": [
    "2. Feature Engineering"
   ]
  },
  {
   "cell_type": "code",
   "execution_count": 272,
   "metadata": {},
   "outputs": [
    {
     "name": "stdout",
     "output_type": "stream",
     "text": [
      "   ACCOUNTS_ACTIVE  ACCOUNTS_ALL  Active_All\n",
      "0           495005        520000        0.95\n",
      "1           515780        540000        0.96\n",
      "2           536555        560000        0.96\n",
      "3           567331        580000        0.98\n",
      "4           603106        650000        0.93\n"
     ]
    }
   ],
   "source": [
    "data['Active_All'] = data['ACCOUNTS_ACTIVE'] / data['ACCOUNTS_ALL']\n",
    "print(data[['ACCOUNTS_ACTIVE', 'ACCOUNTS_ALL', 'Active_All']].head())"
   ]
  },
  {
   "cell_type": "code",
   "execution_count": 273,
   "metadata": {},
   "outputs": [
    {
     "name": "stdout",
     "output_type": "stream",
     "text": [
      "   SIZE  Backup_size  Backup_Efficiency\n",
      "0  4100         3280               0.80\n",
      "1  4180         3340               0.80\n",
      "2  4270         3410               0.80\n",
      "3  4350         3480               0.80\n",
      "4  4440         3550               0.80\n"
     ]
    }
   ],
   "source": [
    "data['Backup_Efficiency'] = data['Backup_size'] / data['SIZE']\n",
    "print(data[[ 'SIZE', 'Backup_size', 'Backup_Efficiency']].head())"
   ]
  },
  {
   "cell_type": "code",
   "execution_count": 274,
   "metadata": {},
   "outputs": [
    {
     "name": "stdout",
     "output_type": "stream",
     "text": [
      "   SIZE  Non_kept_size  Kept_size\n",
      "0  4100            116       3984\n",
      "1  4180            121       4059\n",
      "2  4270            125       4145\n",
      "3  4350            130       4220\n",
      "4  4440            140       4300\n"
     ]
    }
   ],
   "source": [
    "data['Kept_size'] = data['SIZE'] - data['Non_kept_size']\n",
    "print(data[['SIZE', 'Non_kept_size', 'Kept_size']].head())"
   ]
  },
  {
   "cell_type": "markdown",
   "metadata": {},
   "source": [
    "3. Data Normalization and Encoding"
   ]
  },
  {
   "cell_type": "code",
   "execution_count": 275,
   "metadata": {},
   "outputs": [],
   "source": [
    "columns_to_normalize = ['LOAD_TPD', 'ACCOUNTS_ALL', \n",
    "                        'ACCOUNTS_ACTIVE', 'Active_All', \n",
    "                        'Non_kept_size', 'Kept_size', 'Backup_size', \n",
    "                        'Backup_Efficiency', 'LongOps_min']"
   ]
  },
  {
   "cell_type": "markdown",
   "metadata": {},
   "source": [
    "Min-Max Scaling"
   ]
  },
  {
   "cell_type": "code",
   "execution_count": 276,
   "metadata": {},
   "outputs": [],
   "source": [
    "data_norm_minmax = data.copy()"
   ]
  },
  {
   "cell_type": "code",
   "execution_count": 277,
   "metadata": {},
   "outputs": [],
   "source": [
    "scaler = MinMaxScaler()\n",
    "data_norm_minmax[columns_to_normalize] = scaler.fit_transform(data_norm_minmax[columns_to_normalize])"
   ]
  },
  {
   "cell_type": "code",
   "execution_count": 278,
   "metadata": {},
   "outputs": [
    {
     "data": {
      "text/html": [
       "<div>\n",
       "<style scoped>\n",
       "    .dataframe tbody tr th:only-of-type {\n",
       "        vertical-align: middle;\n",
       "    }\n",
       "\n",
       "    .dataframe tbody tr th {\n",
       "        vertical-align: top;\n",
       "    }\n",
       "\n",
       "    .dataframe thead th {\n",
       "        text-align: right;\n",
       "    }\n",
       "</style>\n",
       "<table border=\"1\" class=\"dataframe\">\n",
       "  <thead>\n",
       "    <tr style=\"text-align: right;\">\n",
       "      <th></th>\n",
       "      <th>SIZE</th>\n",
       "      <th>LOAD_TPD</th>\n",
       "      <th>ACCOUNTS_ALL</th>\n",
       "      <th>ACCOUNTS_ACTIVE</th>\n",
       "      <th>Non_kept_size</th>\n",
       "      <th>Backup_size</th>\n",
       "      <th>LongOps_min</th>\n",
       "      <th>Active_All</th>\n",
       "      <th>Backup_Efficiency</th>\n",
       "      <th>Kept_size</th>\n",
       "    </tr>\n",
       "  </thead>\n",
       "  <tbody>\n",
       "    <tr>\n",
       "      <th>0</th>\n",
       "      <td>4100</td>\n",
       "      <td>0.00</td>\n",
       "      <td>0.00</td>\n",
       "      <td>0.00</td>\n",
       "      <td>0.26</td>\n",
       "      <td>0.00</td>\n",
       "      <td>0.99</td>\n",
       "      <td>0.48</td>\n",
       "      <td>1.00</td>\n",
       "      <td>0.00</td>\n",
       "    </tr>\n",
       "    <tr>\n",
       "      <th>1</th>\n",
       "      <td>4180</td>\n",
       "      <td>0.01</td>\n",
       "      <td>0.01</td>\n",
       "      <td>0.01</td>\n",
       "      <td>0.29</td>\n",
       "      <td>0.03</td>\n",
       "      <td>0.99</td>\n",
       "      <td>0.51</td>\n",
       "      <td>0.99</td>\n",
       "      <td>0.02</td>\n",
       "    </tr>\n",
       "    <tr>\n",
       "      <th>2</th>\n",
       "      <td>4270</td>\n",
       "      <td>0.01</td>\n",
       "      <td>0.02</td>\n",
       "      <td>0.02</td>\n",
       "      <td>0.31</td>\n",
       "      <td>0.06</td>\n",
       "      <td>0.98</td>\n",
       "      <td>0.55</td>\n",
       "      <td>0.99</td>\n",
       "      <td>0.04</td>\n",
       "    </tr>\n",
       "    <tr>\n",
       "      <th>3</th>\n",
       "      <td>4350</td>\n",
       "      <td>0.02</td>\n",
       "      <td>0.03</td>\n",
       "      <td>0.03</td>\n",
       "      <td>0.34</td>\n",
       "      <td>0.09</td>\n",
       "      <td>0.99</td>\n",
       "      <td>0.76</td>\n",
       "      <td>1.00</td>\n",
       "      <td>0.06</td>\n",
       "    </tr>\n",
       "    <tr>\n",
       "      <th>4</th>\n",
       "      <td>4440</td>\n",
       "      <td>0.00</td>\n",
       "      <td>0.06</td>\n",
       "      <td>0.05</td>\n",
       "      <td>0.40</td>\n",
       "      <td>0.13</td>\n",
       "      <td>0.99</td>\n",
       "      <td>0.22</td>\n",
       "      <td>0.99</td>\n",
       "      <td>0.08</td>\n",
       "    </tr>\n",
       "  </tbody>\n",
       "</table>\n",
       "</div>"
      ],
      "text/plain": [
       "   SIZE  LOAD_TPD  ACCOUNTS_ALL  ACCOUNTS_ACTIVE  Non_kept_size  Backup_size  \\\n",
       "0  4100      0.00          0.00             0.00           0.26         0.00   \n",
       "1  4180      0.01          0.01             0.01           0.29         0.03   \n",
       "2  4270      0.01          0.02             0.02           0.31         0.06   \n",
       "3  4350      0.02          0.03             0.03           0.34         0.09   \n",
       "4  4440      0.00          0.06             0.05           0.40         0.13   \n",
       "\n",
       "   LongOps_min  Active_All  Backup_Efficiency  Kept_size  \n",
       "0         0.99        0.48               1.00       0.00  \n",
       "1         0.99        0.51               0.99       0.02  \n",
       "2         0.98        0.55               0.99       0.04  \n",
       "3         0.99        0.76               1.00       0.06  \n",
       "4         0.99        0.22               0.99       0.08  "
      ]
     },
     "execution_count": 278,
     "metadata": {},
     "output_type": "execute_result"
    }
   ],
   "source": [
    "data_norm_minmax.head()"
   ]
  },
  {
   "cell_type": "markdown",
   "metadata": {},
   "source": [
    "Standardization (Z-score Normalization)"
   ]
  },
  {
   "cell_type": "code",
   "execution_count": 279,
   "metadata": {},
   "outputs": [],
   "source": [
    "data_norm_stand = data.copy()"
   ]
  },
  {
   "cell_type": "code",
   "execution_count": 280,
   "metadata": {},
   "outputs": [],
   "source": [
    "scaler1 = StandardScaler()\n",
    "data_norm_stand[columns_to_normalize] = scaler1.fit_transform(data_norm_stand[columns_to_normalize])"
   ]
  },
  {
   "cell_type": "code",
   "execution_count": 281,
   "metadata": {},
   "outputs": [
    {
     "data": {
      "text/html": [
       "<div>\n",
       "<style scoped>\n",
       "    .dataframe tbody tr th:only-of-type {\n",
       "        vertical-align: middle;\n",
       "    }\n",
       "\n",
       "    .dataframe tbody tr th {\n",
       "        vertical-align: top;\n",
       "    }\n",
       "\n",
       "    .dataframe thead th {\n",
       "        text-align: right;\n",
       "    }\n",
       "</style>\n",
       "<table border=\"1\" class=\"dataframe\">\n",
       "  <thead>\n",
       "    <tr style=\"text-align: right;\">\n",
       "      <th></th>\n",
       "      <th>SIZE</th>\n",
       "      <th>LOAD_TPD</th>\n",
       "      <th>ACCOUNTS_ALL</th>\n",
       "      <th>ACCOUNTS_ACTIVE</th>\n",
       "      <th>Non_kept_size</th>\n",
       "      <th>Backup_size</th>\n",
       "      <th>LongOps_min</th>\n",
       "      <th>Active_All</th>\n",
       "      <th>Backup_Efficiency</th>\n",
       "      <th>Kept_size</th>\n",
       "    </tr>\n",
       "  </thead>\n",
       "  <tbody>\n",
       "    <tr>\n",
       "      <th>0</th>\n",
       "      <td>4100</td>\n",
       "      <td>-1.18</td>\n",
       "      <td>-1.46</td>\n",
       "      <td>-1.41</td>\n",
       "      <td>-0.52</td>\n",
       "      <td>-2.12</td>\n",
       "      <td>0.87</td>\n",
       "      <td>-0.56</td>\n",
       "      <td>0.90</td>\n",
       "      <td>-1.64</td>\n",
       "    </tr>\n",
       "    <tr>\n",
       "      <th>1</th>\n",
       "      <td>4180</td>\n",
       "      <td>-1.16</td>\n",
       "      <td>-1.43</td>\n",
       "      <td>-1.38</td>\n",
       "      <td>-0.43</td>\n",
       "      <td>-2.01</td>\n",
       "      <td>0.88</td>\n",
       "      <td>-0.46</td>\n",
       "      <td>0.89</td>\n",
       "      <td>-1.58</td>\n",
       "    </tr>\n",
       "    <tr>\n",
       "      <th>2</th>\n",
       "      <td>4270</td>\n",
       "      <td>-1.13</td>\n",
       "      <td>-1.40</td>\n",
       "      <td>-1.35</td>\n",
       "      <td>-0.35</td>\n",
       "      <td>-1.88</td>\n",
       "      <td>0.86</td>\n",
       "      <td>-0.36</td>\n",
       "      <td>0.88</td>\n",
       "      <td>-1.51</td>\n",
       "    </tr>\n",
       "    <tr>\n",
       "      <th>3</th>\n",
       "      <td>4350</td>\n",
       "      <td>-1.09</td>\n",
       "      <td>-1.37</td>\n",
       "      <td>-1.31</td>\n",
       "      <td>-0.26</td>\n",
       "      <td>-1.75</td>\n",
       "      <td>0.88</td>\n",
       "      <td>0.29</td>\n",
       "      <td>0.90</td>\n",
       "      <td>-1.45</td>\n",
       "    </tr>\n",
       "    <tr>\n",
       "      <th>4</th>\n",
       "      <td>4440</td>\n",
       "      <td>-1.18</td>\n",
       "      <td>-1.27</td>\n",
       "      <td>-1.26</td>\n",
       "      <td>-0.07</td>\n",
       "      <td>-1.62</td>\n",
       "      <td>0.87</td>\n",
       "      <td>-1.35</td>\n",
       "      <td>0.89</td>\n",
       "      <td>-1.39</td>\n",
       "    </tr>\n",
       "  </tbody>\n",
       "</table>\n",
       "</div>"
      ],
      "text/plain": [
       "   SIZE  LOAD_TPD  ACCOUNTS_ALL  ACCOUNTS_ACTIVE  Non_kept_size  Backup_size  \\\n",
       "0  4100     -1.18         -1.46            -1.41          -0.52        -2.12   \n",
       "1  4180     -1.16         -1.43            -1.38          -0.43        -2.01   \n",
       "2  4270     -1.13         -1.40            -1.35          -0.35        -1.88   \n",
       "3  4350     -1.09         -1.37            -1.31          -0.26        -1.75   \n",
       "4  4440     -1.18         -1.27            -1.26          -0.07        -1.62   \n",
       "\n",
       "   LongOps_min  Active_All  Backup_Efficiency  Kept_size  \n",
       "0         0.87       -0.56               0.90      -1.64  \n",
       "1         0.88       -0.46               0.89      -1.58  \n",
       "2         0.86       -0.36               0.88      -1.51  \n",
       "3         0.88        0.29               0.90      -1.45  \n",
       "4         0.87       -1.35               0.89      -1.39  "
      ]
     },
     "execution_count": 281,
     "metadata": {},
     "output_type": "execute_result"
    }
   ],
   "source": [
    "data_norm_stand.head()"
   ]
  },
  {
   "cell_type": "markdown",
   "metadata": {},
   "source": [
    "Categorical data encoding"
   ]
  },
  {
   "cell_type": "markdown",
   "metadata": {},
   "source": [
    "One-Hot Encoding"
   ]
  },
  {
   "cell_type": "code",
   "execution_count": 282,
   "metadata": {},
   "outputs": [],
   "source": [
    "data2_encoded = data2.copy()"
   ]
  },
  {
   "cell_type": "code",
   "execution_count": 283,
   "metadata": {},
   "outputs": [],
   "source": [
    "data2_encoded = pd.get_dummies(data2_encoded, columns=['Stage', 'Type', 'Data Keep, years', 'Backup retention, month', 'Depreciation period, years', 'Data retention, years'])"
   ]
  },
  {
   "cell_type": "code",
   "execution_count": 284,
   "metadata": {},
   "outputs": [
    {
     "data": {
      "text/html": [
       "<div>\n",
       "<style scoped>\n",
       "    .dataframe tbody tr th:only-of-type {\n",
       "        vertical-align: middle;\n",
       "    }\n",
       "\n",
       "    .dataframe tbody tr th {\n",
       "        vertical-align: top;\n",
       "    }\n",
       "\n",
       "    .dataframe thead th {\n",
       "        text-align: right;\n",
       "    }\n",
       "</style>\n",
       "<table border=\"1\" class=\"dataframe\">\n",
       "  <thead>\n",
       "    <tr style=\"text-align: right;\">\n",
       "      <th></th>\n",
       "      <th>Size, Gb</th>\n",
       "      <th>Stage_Arch</th>\n",
       "      <th>Stage_Bkp</th>\n",
       "      <th>Stage_Dev</th>\n",
       "      <th>Stage_Prod</th>\n",
       "      <th>Stage_Stage</th>\n",
       "      <th>Stage_Stby</th>\n",
       "      <th>Stage_Test</th>\n",
       "      <th>Type_Bkp</th>\n",
       "      <th>Type_DWH</th>\n",
       "      <th>Type_Mixed</th>\n",
       "      <th>Type_OLTP</th>\n",
       "      <th>Data Keep, years_2</th>\n",
       "      <th>Data Keep, years_20</th>\n",
       "      <th>Backup retention, month_0</th>\n",
       "      <th>Backup retention, month_1</th>\n",
       "      <th>Depreciation period, years_0</th>\n",
       "      <th>Depreciation period, years_5</th>\n",
       "      <th>Depreciation period, years_7</th>\n",
       "      <th>Data retention, years_0</th>\n",
       "      <th>Data retention, years_7</th>\n",
       "      <th>Data retention, years_20</th>\n",
       "    </tr>\n",
       "  </thead>\n",
       "  <tbody>\n",
       "    <tr>\n",
       "      <th>0</th>\n",
       "      <td>8000</td>\n",
       "      <td>False</td>\n",
       "      <td>False</td>\n",
       "      <td>False</td>\n",
       "      <td>True</td>\n",
       "      <td>False</td>\n",
       "      <td>False</td>\n",
       "      <td>False</td>\n",
       "      <td>False</td>\n",
       "      <td>False</td>\n",
       "      <td>True</td>\n",
       "      <td>False</td>\n",
       "      <td>True</td>\n",
       "      <td>False</td>\n",
       "      <td>False</td>\n",
       "      <td>True</td>\n",
       "      <td>False</td>\n",
       "      <td>True</td>\n",
       "      <td>False</td>\n",
       "      <td>False</td>\n",
       "      <td>True</td>\n",
       "      <td>False</td>\n",
       "    </tr>\n",
       "    <tr>\n",
       "      <th>1</th>\n",
       "      <td>8000</td>\n",
       "      <td>False</td>\n",
       "      <td>False</td>\n",
       "      <td>False</td>\n",
       "      <td>False</td>\n",
       "      <td>False</td>\n",
       "      <td>True</td>\n",
       "      <td>False</td>\n",
       "      <td>False</td>\n",
       "      <td>False</td>\n",
       "      <td>True</td>\n",
       "      <td>False</td>\n",
       "      <td>True</td>\n",
       "      <td>False</td>\n",
       "      <td>True</td>\n",
       "      <td>False</td>\n",
       "      <td>True</td>\n",
       "      <td>False</td>\n",
       "      <td>False</td>\n",
       "      <td>True</td>\n",
       "      <td>False</td>\n",
       "      <td>False</td>\n",
       "    </tr>\n",
       "    <tr>\n",
       "      <th>2</th>\n",
       "      <td>8000</td>\n",
       "      <td>False</td>\n",
       "      <td>False</td>\n",
       "      <td>False</td>\n",
       "      <td>False</td>\n",
       "      <td>True</td>\n",
       "      <td>False</td>\n",
       "      <td>False</td>\n",
       "      <td>False</td>\n",
       "      <td>False</td>\n",
       "      <td>True</td>\n",
       "      <td>False</td>\n",
       "      <td>True</td>\n",
       "      <td>False</td>\n",
       "      <td>True</td>\n",
       "      <td>False</td>\n",
       "      <td>True</td>\n",
       "      <td>False</td>\n",
       "      <td>False</td>\n",
       "      <td>True</td>\n",
       "      <td>False</td>\n",
       "      <td>False</td>\n",
       "    </tr>\n",
       "    <tr>\n",
       "      <th>3</th>\n",
       "      <td>8000</td>\n",
       "      <td>False</td>\n",
       "      <td>False</td>\n",
       "      <td>False</td>\n",
       "      <td>False</td>\n",
       "      <td>False</td>\n",
       "      <td>False</td>\n",
       "      <td>True</td>\n",
       "      <td>False</td>\n",
       "      <td>False</td>\n",
       "      <td>True</td>\n",
       "      <td>False</td>\n",
       "      <td>True</td>\n",
       "      <td>False</td>\n",
       "      <td>True</td>\n",
       "      <td>False</td>\n",
       "      <td>True</td>\n",
       "      <td>False</td>\n",
       "      <td>False</td>\n",
       "      <td>True</td>\n",
       "      <td>False</td>\n",
       "      <td>False</td>\n",
       "    </tr>\n",
       "    <tr>\n",
       "      <th>4</th>\n",
       "      <td>8000</td>\n",
       "      <td>False</td>\n",
       "      <td>False</td>\n",
       "      <td>True</td>\n",
       "      <td>False</td>\n",
       "      <td>False</td>\n",
       "      <td>False</td>\n",
       "      <td>False</td>\n",
       "      <td>False</td>\n",
       "      <td>False</td>\n",
       "      <td>True</td>\n",
       "      <td>False</td>\n",
       "      <td>True</td>\n",
       "      <td>False</td>\n",
       "      <td>True</td>\n",
       "      <td>False</td>\n",
       "      <td>True</td>\n",
       "      <td>False</td>\n",
       "      <td>False</td>\n",
       "      <td>True</td>\n",
       "      <td>False</td>\n",
       "      <td>False</td>\n",
       "    </tr>\n",
       "  </tbody>\n",
       "</table>\n",
       "</div>"
      ],
      "text/plain": [
       "   Size, Gb  Stage_Arch  Stage_Bkp  Stage_Dev  Stage_Prod  Stage_Stage  \\\n",
       "0      8000       False      False      False        True        False   \n",
       "1      8000       False      False      False       False        False   \n",
       "2      8000       False      False      False       False         True   \n",
       "3      8000       False      False      False       False        False   \n",
       "4      8000       False      False       True       False        False   \n",
       "\n",
       "   Stage_Stby  Stage_Test  Type_Bkp  Type_DWH  Type_Mixed  Type_OLTP  \\\n",
       "0       False       False     False     False        True      False   \n",
       "1        True       False     False     False        True      False   \n",
       "2       False       False     False     False        True      False   \n",
       "3       False        True     False     False        True      False   \n",
       "4       False       False     False     False        True      False   \n",
       "\n",
       "   Data Keep, years_2  Data Keep, years_20  Backup retention, month_0  \\\n",
       "0                True                False                      False   \n",
       "1                True                False                       True   \n",
       "2                True                False                       True   \n",
       "3                True                False                       True   \n",
       "4                True                False                       True   \n",
       "\n",
       "   Backup retention, month_1  Depreciation period, years_0  \\\n",
       "0                       True                         False   \n",
       "1                      False                          True   \n",
       "2                      False                          True   \n",
       "3                      False                          True   \n",
       "4                      False                          True   \n",
       "\n",
       "   Depreciation period, years_5  Depreciation period, years_7  \\\n",
       "0                          True                         False   \n",
       "1                         False                         False   \n",
       "2                         False                         False   \n",
       "3                         False                         False   \n",
       "4                         False                         False   \n",
       "\n",
       "   Data retention, years_0  Data retention, years_7  Data retention, years_20  \n",
       "0                    False                     True                     False  \n",
       "1                     True                    False                     False  \n",
       "2                     True                    False                     False  \n",
       "3                     True                    False                     False  \n",
       "4                     True                    False                     False  "
      ]
     },
     "execution_count": 284,
     "metadata": {},
     "output_type": "execute_result"
    }
   ],
   "source": [
    "data2_encoded.head()"
   ]
  },
  {
   "cell_type": "markdown",
   "metadata": {},
   "source": [
    "4. Correlation Analysis"
   ]
  },
  {
   "cell_type": "code",
   "execution_count": 285,
   "metadata": {},
   "outputs": [
    {
     "data": {
      "text/html": [
       "<div>\n",
       "<style scoped>\n",
       "    .dataframe tbody tr th:only-of-type {\n",
       "        vertical-align: middle;\n",
       "    }\n",
       "\n",
       "    .dataframe tbody tr th {\n",
       "        vertical-align: top;\n",
       "    }\n",
       "\n",
       "    .dataframe thead th {\n",
       "        text-align: right;\n",
       "    }\n",
       "</style>\n",
       "<table border=\"1\" class=\"dataframe\">\n",
       "  <thead>\n",
       "    <tr style=\"text-align: right;\">\n",
       "      <th></th>\n",
       "      <th>SIZE</th>\n",
       "      <th>LOAD_TPD</th>\n",
       "      <th>ACCOUNTS_ALL</th>\n",
       "      <th>ACCOUNTS_ACTIVE</th>\n",
       "      <th>Non_kept_size</th>\n",
       "      <th>Backup_size</th>\n",
       "      <th>LongOps_min</th>\n",
       "      <th>Active_All</th>\n",
       "      <th>Backup_Efficiency</th>\n",
       "      <th>Kept_size</th>\n",
       "    </tr>\n",
       "  </thead>\n",
       "  <tbody>\n",
       "    <tr>\n",
       "      <th>SIZE</th>\n",
       "      <td>1.00</td>\n",
       "      <td>0.95</td>\n",
       "      <td>0.99</td>\n",
       "      <td>0.99</td>\n",
       "      <td>-0.39</td>\n",
       "      <td>0.89</td>\n",
       "      <td>-0.87</td>\n",
       "      <td>0.83</td>\n",
       "      <td>-0.86</td>\n",
       "      <td>1.00</td>\n",
       "    </tr>\n",
       "    <tr>\n",
       "      <th>LOAD_TPD</th>\n",
       "      <td>0.95</td>\n",
       "      <td>1.00</td>\n",
       "      <td>0.97</td>\n",
       "      <td>0.97</td>\n",
       "      <td>-0.49</td>\n",
       "      <td>0.78</td>\n",
       "      <td>-0.91</td>\n",
       "      <td>0.78</td>\n",
       "      <td>-0.87</td>\n",
       "      <td>0.96</td>\n",
       "    </tr>\n",
       "    <tr>\n",
       "      <th>ACCOUNTS_ALL</th>\n",
       "      <td>0.99</td>\n",
       "      <td>0.97</td>\n",
       "      <td>1.00</td>\n",
       "      <td>1.00</td>\n",
       "      <td>-0.43</td>\n",
       "      <td>0.86</td>\n",
       "      <td>-0.89</td>\n",
       "      <td>0.83</td>\n",
       "      <td>-0.88</td>\n",
       "      <td>1.00</td>\n",
       "    </tr>\n",
       "    <tr>\n",
       "      <th>ACCOUNTS_ACTIVE</th>\n",
       "      <td>0.99</td>\n",
       "      <td>0.97</td>\n",
       "      <td>1.00</td>\n",
       "      <td>1.00</td>\n",
       "      <td>-0.44</td>\n",
       "      <td>0.85</td>\n",
       "      <td>-0.89</td>\n",
       "      <td>0.84</td>\n",
       "      <td>-0.88</td>\n",
       "      <td>0.99</td>\n",
       "    </tr>\n",
       "    <tr>\n",
       "      <th>Non_kept_size</th>\n",
       "      <td>-0.39</td>\n",
       "      <td>-0.49</td>\n",
       "      <td>-0.43</td>\n",
       "      <td>-0.44</td>\n",
       "      <td>1.00</td>\n",
       "      <td>0.08</td>\n",
       "      <td>0.66</td>\n",
       "      <td>-0.46</td>\n",
       "      <td>0.79</td>\n",
       "      <td>-0.42</td>\n",
       "    </tr>\n",
       "    <tr>\n",
       "      <th>Backup_size</th>\n",
       "      <td>0.89</td>\n",
       "      <td>0.78</td>\n",
       "      <td>0.86</td>\n",
       "      <td>0.85</td>\n",
       "      <td>0.08</td>\n",
       "      <td>1.00</td>\n",
       "      <td>-0.61</td>\n",
       "      <td>0.67</td>\n",
       "      <td>-0.54</td>\n",
       "      <td>0.87</td>\n",
       "    </tr>\n",
       "    <tr>\n",
       "      <th>LongOps_min</th>\n",
       "      <td>-0.87</td>\n",
       "      <td>-0.91</td>\n",
       "      <td>-0.89</td>\n",
       "      <td>-0.89</td>\n",
       "      <td>0.66</td>\n",
       "      <td>-0.61</td>\n",
       "      <td>1.00</td>\n",
       "      <td>-0.75</td>\n",
       "      <td>0.92</td>\n",
       "      <td>-0.88</td>\n",
       "    </tr>\n",
       "    <tr>\n",
       "      <th>Active_All</th>\n",
       "      <td>0.83</td>\n",
       "      <td>0.78</td>\n",
       "      <td>0.83</td>\n",
       "      <td>0.84</td>\n",
       "      <td>-0.46</td>\n",
       "      <td>0.67</td>\n",
       "      <td>-0.75</td>\n",
       "      <td>1.00</td>\n",
       "      <td>-0.81</td>\n",
       "      <td>0.84</td>\n",
       "    </tr>\n",
       "    <tr>\n",
       "      <th>Backup_Efficiency</th>\n",
       "      <td>-0.86</td>\n",
       "      <td>-0.87</td>\n",
       "      <td>-0.88</td>\n",
       "      <td>-0.88</td>\n",
       "      <td>0.79</td>\n",
       "      <td>-0.54</td>\n",
       "      <td>0.92</td>\n",
       "      <td>-0.81</td>\n",
       "      <td>1.00</td>\n",
       "      <td>-0.88</td>\n",
       "    </tr>\n",
       "    <tr>\n",
       "      <th>Kept_size</th>\n",
       "      <td>1.00</td>\n",
       "      <td>0.96</td>\n",
       "      <td>1.00</td>\n",
       "      <td>0.99</td>\n",
       "      <td>-0.42</td>\n",
       "      <td>0.87</td>\n",
       "      <td>-0.88</td>\n",
       "      <td>0.84</td>\n",
       "      <td>-0.88</td>\n",
       "      <td>1.00</td>\n",
       "    </tr>\n",
       "  </tbody>\n",
       "</table>\n",
       "</div>"
      ],
      "text/plain": [
       "                   SIZE  LOAD_TPD  ACCOUNTS_ALL  ACCOUNTS_ACTIVE  \\\n",
       "SIZE               1.00      0.95          0.99             0.99   \n",
       "LOAD_TPD           0.95      1.00          0.97             0.97   \n",
       "ACCOUNTS_ALL       0.99      0.97          1.00             1.00   \n",
       "ACCOUNTS_ACTIVE    0.99      0.97          1.00             1.00   \n",
       "Non_kept_size     -0.39     -0.49         -0.43            -0.44   \n",
       "Backup_size        0.89      0.78          0.86             0.85   \n",
       "LongOps_min       -0.87     -0.91         -0.89            -0.89   \n",
       "Active_All         0.83      0.78          0.83             0.84   \n",
       "Backup_Efficiency -0.86     -0.87         -0.88            -0.88   \n",
       "Kept_size          1.00      0.96          1.00             0.99   \n",
       "\n",
       "                   Non_kept_size  Backup_size  LongOps_min  Active_All  \\\n",
       "SIZE                       -0.39         0.89        -0.87        0.83   \n",
       "LOAD_TPD                   -0.49         0.78        -0.91        0.78   \n",
       "ACCOUNTS_ALL               -0.43         0.86        -0.89        0.83   \n",
       "ACCOUNTS_ACTIVE            -0.44         0.85        -0.89        0.84   \n",
       "Non_kept_size               1.00         0.08         0.66       -0.46   \n",
       "Backup_size                 0.08         1.00        -0.61        0.67   \n",
       "LongOps_min                 0.66        -0.61         1.00       -0.75   \n",
       "Active_All                 -0.46         0.67        -0.75        1.00   \n",
       "Backup_Efficiency           0.79        -0.54         0.92       -0.81   \n",
       "Kept_size                  -0.42         0.87        -0.88        0.84   \n",
       "\n",
       "                   Backup_Efficiency  Kept_size  \n",
       "SIZE                           -0.86       1.00  \n",
       "LOAD_TPD                       -0.87       0.96  \n",
       "ACCOUNTS_ALL                   -0.88       1.00  \n",
       "ACCOUNTS_ACTIVE                -0.88       0.99  \n",
       "Non_kept_size                   0.79      -0.42  \n",
       "Backup_size                    -0.54       0.87  \n",
       "LongOps_min                     0.92      -0.88  \n",
       "Active_All                     -0.81       0.84  \n",
       "Backup_Efficiency               1.00      -0.88  \n",
       "Kept_size                      -0.88       1.00  "
      ]
     },
     "execution_count": 285,
     "metadata": {},
     "output_type": "execute_result"
    }
   ],
   "source": [
    "data.corr()"
   ]
  },
  {
   "cell_type": "code",
   "execution_count": 286,
   "metadata": {},
   "outputs": [
    {
     "data": {
      "text/plain": [
       "SIZE                 1.00\n",
       "Kept_size            1.00\n",
       "ACCOUNTS_ALL         0.99\n",
       "ACCOUNTS_ACTIVE      0.99\n",
       "LOAD_TPD             0.95\n",
       "Backup_size          0.89\n",
       "Active_All           0.83\n",
       "Non_kept_size       -0.39\n",
       "Backup_Efficiency   -0.86\n",
       "LongOps_min         -0.87\n",
       "Name: SIZE, dtype: float64"
      ]
     },
     "execution_count": 286,
     "metadata": {},
     "output_type": "execute_result"
    }
   ],
   "source": [
    "correlation = data.corr()['SIZE'].sort_values(ascending=False)\n",
    "correlation"
   ]
  },
  {
   "cell_type": "code",
   "execution_count": 287,
   "metadata": {},
   "outputs": [
    {
     "data": {
      "text/plain": [
       "Size, Gb                        1.00\n",
       "Stage_Arch                      0.65\n",
       "Depreciation period, years_7    0.54\n",
       "Type_Bkp                        0.54\n",
       "Data retention, years_7         0.47\n",
       "Backup retention, month_1       0.41\n",
       "Data Keep, years_2              0.04\n",
       "Type_DWH                        0.04\n",
       "Stage_Bkp                       0.03\n",
       "Data Keep, years_20            -0.04\n",
       "Data retention, years_20       -0.07\n",
       "Depreciation period, years_5   -0.13\n",
       "Stage_Prod                     -0.13\n",
       "Stage_Dev                      -0.13\n",
       "Stage_Stby                     -0.17\n",
       "Stage_Stage                    -0.17\n",
       "Stage_Test                     -0.17\n",
       "Type_Mixed                     -0.18\n",
       "Backup retention, month_0      -0.41\n",
       "Depreciation period, years_0   -0.41\n",
       "Data retention, years_0        -0.41\n",
       "Type_OLTP                      -0.42\n",
       "Name: Size, Gb, dtype: float64"
      ]
     },
     "execution_count": 287,
     "metadata": {},
     "output_type": "execute_result"
    }
   ],
   "source": [
    "correlation = data2_encoded.corr()['Size, Gb'].sort_values(ascending=False)\n",
    "correlation"
   ]
  },
  {
   "cell_type": "code",
   "execution_count": 288,
   "metadata": {},
   "outputs": [
    {
     "data": {
      "image/png": "[encoded data removed]",
      "text/plain": [
       "<Figure size 600x1000 with 2 Axes>"
      ]
     },
     "metadata": {},
     "output_type": "display_data"
    }
   ],
   "source": [
    "plt.figure(figsize=(6, 10))\n",
    "sns.heatmap(correlation.to_frame(), annot = True, vmin = -1, vmax = 1, cbar=True)\n",
    "plt.show()"
   ]
  },
  {
   "cell_type": "code",
   "execution_count": 289,
   "metadata": {},
   "outputs": [
    {
     "data": {
      "image/png": "[encoded data removed]",
      "text/plain": [
       "<Figure size 600x1000 with 1 Axes>"
      ]
     },
     "metadata": {},
     "output_type": "display_data"
    }
   ],
   "source": [
    "plt.figure(figsize=(6, 10))\n",
    "colors = ['red' if c < 0 else 'green' for c in correlation.values]\n",
    "plt.barh(correlation.index, correlation.values, color=colors)\n",
    "plt.axvline(x=0, color='black', linewidth=0.8)\n",
    "plt.xlabel('Correlation')\n",
    "plt.title('Correlation of Variables with Size, Gb')\n",
    "plt.show()"
   ]
  },
  {
   "cell_type": "markdown",
   "metadata": {},
   "source": [
    "5. Feature Importance Analysis"
   ]
  },
  {
   "cell_type": "markdown",
   "metadata": {},
   "source": [
    "These are statistical methods used for univariate feature selection. They evaluate each feature individually with the target variable to select the most informative features. SelectKBest selects the top k features based on a chosen metric (e.g., F-test, mutual information), while Mutual Information measures the dependency between features and the target."
   ]
  },
  {
   "cell_type": "markdown",
   "metadata": {},
   "source": [
    "Mutual Information (Filter Method)"
   ]
  },
  {
   "cell_type": "markdown",
   "metadata": {},
   "source": [
    "For Numerical Variables:\n",
    "Mutual Information is not sensitive to feature scaling. It measures statistical dependence between variables. Thus, using the original, normalized, or standardized data should not significantly affect its performance."
   ]
  },
  {
   "cell_type": "markdown",
   "metadata": {},
   "source": [
    "\n",
    "Mutual information measures the dependency between two variables. In the context of feature selection, it measures the dependency between each feature and the target variable."
   ]
  },
  {
   "cell_type": "code",
   "execution_count": 290,
   "metadata": {},
   "outputs": [
    {
     "data": {
      "text/html": [
       "<div>\n",
       "<style scoped>\n",
       "    .dataframe tbody tr th:only-of-type {\n",
       "        vertical-align: middle;\n",
       "    }\n",
       "\n",
       "    .dataframe tbody tr th {\n",
       "        vertical-align: top;\n",
       "    }\n",
       "\n",
       "    .dataframe thead th {\n",
       "        text-align: right;\n",
       "    }\n",
       "</style>\n",
       "<table border=\"1\" class=\"dataframe\">\n",
       "  <thead>\n",
       "    <tr style=\"text-align: right;\">\n",
       "      <th></th>\n",
       "      <th>Feature</th>\n",
       "      <th>Mutual_Information</th>\n",
       "    </tr>\n",
       "  </thead>\n",
       "  <tbody>\n",
       "    <tr>\n",
       "      <th>8</th>\n",
       "      <td>Kept_size</td>\n",
       "      <td>2.51</td>\n",
       "    </tr>\n",
       "    <tr>\n",
       "      <th>1</th>\n",
       "      <td>ACCOUNTS_ALL</td>\n",
       "      <td>2.43</td>\n",
       "    </tr>\n",
       "    <tr>\n",
       "      <th>2</th>\n",
       "      <td>ACCOUNTS_ACTIVE</td>\n",
       "      <td>2.38</td>\n",
       "    </tr>\n",
       "    <tr>\n",
       "      <th>3</th>\n",
       "      <td>Non_kept_size</td>\n",
       "      <td>2.20</td>\n",
       "    </tr>\n",
       "    <tr>\n",
       "      <th>0</th>\n",
       "      <td>LOAD_TPD</td>\n",
       "      <td>1.78</td>\n",
       "    </tr>\n",
       "    <tr>\n",
       "      <th>4</th>\n",
       "      <td>Backup_size</td>\n",
       "      <td>1.63</td>\n",
       "    </tr>\n",
       "    <tr>\n",
       "      <th>6</th>\n",
       "      <td>Active_All</td>\n",
       "      <td>1.01</td>\n",
       "    </tr>\n",
       "    <tr>\n",
       "      <th>5</th>\n",
       "      <td>LongOps_min</td>\n",
       "      <td>0.91</td>\n",
       "    </tr>\n",
       "    <tr>\n",
       "      <th>7</th>\n",
       "      <td>Backup_Efficiency</td>\n",
       "      <td>0.68</td>\n",
       "    </tr>\n",
       "  </tbody>\n",
       "</table>\n",
       "</div>"
      ],
      "text/plain": [
       "             Feature  Mutual_Information\n",
       "8          Kept_size                2.51\n",
       "1       ACCOUNTS_ALL                2.43\n",
       "2    ACCOUNTS_ACTIVE                2.38\n",
       "3      Non_kept_size                2.20\n",
       "0           LOAD_TPD                1.78\n",
       "4        Backup_size                1.63\n",
       "6         Active_All                1.01\n",
       "5        LongOps_min                0.91\n",
       "7  Backup_Efficiency                0.68"
      ]
     },
     "execution_count": 290,
     "metadata": {},
     "output_type": "execute_result"
    }
   ],
   "source": [
    "y = data['SIZE']\n",
    "X = data_norm_stand.drop('SIZE', axis=1)\n",
    "mutual_info = mutual_info_regression(X, y)\n",
    "mi_scores = pd.DataFrame({'Feature': X.columns, 'Mutual_Information': mutual_info})\n",
    "mi_scores = mi_scores.sort_values(by='Mutual_Information', ascending=False)\n",
    "mi_scores"
   ]
  },
  {
   "cell_type": "markdown",
   "metadata": {},
   "source": [
    "In summary, features with higher Mutual Information scores are more influential in predicting 'System Size', whereas those with lower scores might have less predictive power. These scores help prioritize features based on their relationship strength with the target variable, aiding in feature selection for your predictive model."
   ]
  },
  {
   "cell_type": "markdown",
   "metadata": {},
   "source": [
    "Mutual information for categorical"
   ]
  },
  {
   "cell_type": "code",
   "execution_count": 291,
   "metadata": {},
   "outputs": [
    {
     "data": {
      "text/html": [
       "<div>\n",
       "<style scoped>\n",
       "    .dataframe tbody tr th:only-of-type {\n",
       "        vertical-align: middle;\n",
       "    }\n",
       "\n",
       "    .dataframe tbody tr th {\n",
       "        vertical-align: top;\n",
       "    }\n",
       "\n",
       "    .dataframe thead th {\n",
       "        text-align: right;\n",
       "    }\n",
       "</style>\n",
       "<table border=\"1\" class=\"dataframe\">\n",
       "  <thead>\n",
       "    <tr style=\"text-align: right;\">\n",
       "      <th></th>\n",
       "      <th>Feature</th>\n",
       "      <th>Mutual_Information</th>\n",
       "    </tr>\n",
       "  </thead>\n",
       "  <tbody>\n",
       "    <tr>\n",
       "      <th>10</th>\n",
       "      <td>Type_OLTP</td>\n",
       "      <td>0.57</td>\n",
       "    </tr>\n",
       "    <tr>\n",
       "      <th>9</th>\n",
       "      <td>Type_Mixed</td>\n",
       "      <td>0.32</td>\n",
       "    </tr>\n",
       "    <tr>\n",
       "      <th>7</th>\n",
       "      <td>Type_Bkp</td>\n",
       "      <td>0.22</td>\n",
       "    </tr>\n",
       "    <tr>\n",
       "      <th>8</th>\n",
       "      <td>Type_DWH</td>\n",
       "      <td>0.17</td>\n",
       "    </tr>\n",
       "    <tr>\n",
       "      <th>18</th>\n",
       "      <td>Data retention, years_0</td>\n",
       "      <td>0.15</td>\n",
       "    </tr>\n",
       "    <tr>\n",
       "      <th>15</th>\n",
       "      <td>Depreciation period, years_0</td>\n",
       "      <td>0.15</td>\n",
       "    </tr>\n",
       "    <tr>\n",
       "      <th>13</th>\n",
       "      <td>Backup retention, month_0</td>\n",
       "      <td>0.13</td>\n",
       "    </tr>\n",
       "    <tr>\n",
       "      <th>14</th>\n",
       "      <td>Backup retention, month_1</td>\n",
       "      <td>0.12</td>\n",
       "    </tr>\n",
       "    <tr>\n",
       "      <th>12</th>\n",
       "      <td>Data Keep, years_20</td>\n",
       "      <td>0.11</td>\n",
       "    </tr>\n",
       "    <tr>\n",
       "      <th>19</th>\n",
       "      <td>Data retention, years_7</td>\n",
       "      <td>0.10</td>\n",
       "    </tr>\n",
       "    <tr>\n",
       "      <th>11</th>\n",
       "      <td>Data Keep, years_2</td>\n",
       "      <td>0.09</td>\n",
       "    </tr>\n",
       "    <tr>\n",
       "      <th>17</th>\n",
       "      <td>Depreciation period, years_7</td>\n",
       "      <td>0.08</td>\n",
       "    </tr>\n",
       "    <tr>\n",
       "      <th>4</th>\n",
       "      <td>Stage_Stage</td>\n",
       "      <td>0.08</td>\n",
       "    </tr>\n",
       "    <tr>\n",
       "      <th>0</th>\n",
       "      <td>Stage_Arch</td>\n",
       "      <td>0.07</td>\n",
       "    </tr>\n",
       "    <tr>\n",
       "      <th>1</th>\n",
       "      <td>Stage_Bkp</td>\n",
       "      <td>0.03</td>\n",
       "    </tr>\n",
       "    <tr>\n",
       "      <th>3</th>\n",
       "      <td>Stage_Prod</td>\n",
       "      <td>0.01</td>\n",
       "    </tr>\n",
       "    <tr>\n",
       "      <th>20</th>\n",
       "      <td>Data retention, years_20</td>\n",
       "      <td>0.00</td>\n",
       "    </tr>\n",
       "    <tr>\n",
       "      <th>6</th>\n",
       "      <td>Stage_Test</td>\n",
       "      <td>0.00</td>\n",
       "    </tr>\n",
       "    <tr>\n",
       "      <th>16</th>\n",
       "      <td>Depreciation period, years_5</td>\n",
       "      <td>0.00</td>\n",
       "    </tr>\n",
       "    <tr>\n",
       "      <th>5</th>\n",
       "      <td>Stage_Stby</td>\n",
       "      <td>0.00</td>\n",
       "    </tr>\n",
       "    <tr>\n",
       "      <th>2</th>\n",
       "      <td>Stage_Dev</td>\n",
       "      <td>0.00</td>\n",
       "    </tr>\n",
       "  </tbody>\n",
       "</table>\n",
       "</div>"
      ],
      "text/plain": [
       "                         Feature  Mutual_Information\n",
       "10                     Type_OLTP                0.57\n",
       "9                     Type_Mixed                0.32\n",
       "7                       Type_Bkp                0.22\n",
       "8                       Type_DWH                0.17\n",
       "18       Data retention, years_0                0.15\n",
       "15  Depreciation period, years_0                0.15\n",
       "13     Backup retention, month_0                0.13\n",
       "14     Backup retention, month_1                0.12\n",
       "12           Data Keep, years_20                0.11\n",
       "19       Data retention, years_7                0.10\n",
       "11            Data Keep, years_2                0.09\n",
       "17  Depreciation period, years_7                0.08\n",
       "4                    Stage_Stage                0.08\n",
       "0                     Stage_Arch                0.07\n",
       "1                      Stage_Bkp                0.03\n",
       "3                     Stage_Prod                0.01\n",
       "20      Data retention, years_20                0.00\n",
       "6                     Stage_Test                0.00\n",
       "16  Depreciation period, years_5                0.00\n",
       "5                     Stage_Stby                0.00\n",
       "2                      Stage_Dev                0.00"
      ]
     },
     "execution_count": 291,
     "metadata": {},
     "output_type": "execute_result"
    }
   ],
   "source": [
    "y = data2_encoded['Size, Gb']\n",
    "X = data2_encoded.drop('Size, Gb', axis=1)\n",
    "mutual_info = mutual_info_regression(X, y)\n",
    "mi_scores = pd.DataFrame({'Feature': X.columns, 'Mutual_Information': mutual_info})\n",
    "mi_scores = mi_scores.sort_values(by='Mutual_Information', ascending=False)\n",
    "mi_scores"
   ]
  },
  {
   "cell_type": "markdown",
   "metadata": {},
   "source": [
    "SelectKBest (Filter Method)"
   ]
  },
  {
   "cell_type": "markdown",
   "metadata": {},
   "source": [
    "Univariate Feature Selection methods, such as SelectKBest, often assume standard normally distributed data, so using standardized data might be more appropriate."
   ]
  },
  {
   "cell_type": "code",
   "execution_count": 292,
   "metadata": {},
   "outputs": [
    {
     "name": "stdout",
     "output_type": "stream",
     "text": [
      "Selected Features:\n",
      "Index(['LOAD_TPD', 'ACCOUNTS_ALL', 'ACCOUNTS_ACTIVE', 'Backup_size',\n",
      "       'Kept_size'],\n",
      "      dtype='object')\n"
     ]
    }
   ],
   "source": [
    "num_features = 5\n",
    "selector = SelectKBest(score_func=f_regression, k=num_features)\n",
    "y = data['SIZE']\n",
    "X = data_norm_stand.drop('SIZE', axis=1)\n",
    "X_selected = selector.fit_transform(X, y)\n",
    "selected_indices = selector.get_support(indices=True)\n",
    "selected_features = X.columns[selected_indices]\n",
    "print(\"Selected Features:\")\n",
    "print(selected_features)"
   ]
  },
  {
   "cell_type": "markdown",
   "metadata": {},
   "source": [
    "SelectKBest for categorical data"
   ]
  },
  {
   "cell_type": "code",
   "execution_count": 293,
   "metadata": {},
   "outputs": [
    {
     "data": {
      "text/plain": [
       "Index(['Stage_Arch', 'Type_Bkp', 'Type_OLTP', 'Depreciation period, years_7',\n",
       "       'Data retention, years_7'],\n",
       "      dtype='object')"
      ]
     },
     "execution_count": 293,
     "metadata": {},
     "output_type": "execute_result"
    }
   ],
   "source": [
    "num_features = 5 \n",
    "\n",
    "y = data2_encoded['Size, Gb']\n",
    "X = data2_encoded.drop('Size, Gb', axis=1)\n",
    "\n",
    "selector = SelectKBest(score_func=f_regression, k=num_features)\n",
    "X_selected = selector.fit_transform(X, y)\n",
    "selected_indices = selector.get_support(indices=True)\n",
    "selected_features = X.columns[selected_indices]\n",
    "selected_features"
   ]
  },
  {
   "cell_type": "markdown",
   "metadata": {},
   "source": [
    "ANOVA F-test (Filter method) on categorical data:"
   ]
  },
  {
   "cell_type": "code",
   "execution_count": 294,
   "metadata": {},
   "outputs": [
    {
     "data": {
      "text/html": [
       "<div>\n",
       "<style scoped>\n",
       "    .dataframe tbody tr th:only-of-type {\n",
       "        vertical-align: middle;\n",
       "    }\n",
       "\n",
       "    .dataframe tbody tr th {\n",
       "        vertical-align: top;\n",
       "    }\n",
       "\n",
       "    .dataframe thead th {\n",
       "        text-align: right;\n",
       "    }\n",
       "</style>\n",
       "<table border=\"1\" class=\"dataframe\">\n",
       "  <thead>\n",
       "    <tr style=\"text-align: right;\">\n",
       "      <th></th>\n",
       "      <th>Feature</th>\n",
       "      <th>F_Value</th>\n",
       "      <th>P_Value</th>\n",
       "    </tr>\n",
       "  </thead>\n",
       "  <tbody>\n",
       "    <tr>\n",
       "      <th>0</th>\n",
       "      <td>Stage_Arch</td>\n",
       "      <td>11.86</td>\n",
       "      <td>0.00</td>\n",
       "    </tr>\n",
       "    <tr>\n",
       "      <th>7</th>\n",
       "      <td>Type_Bkp</td>\n",
       "      <td>6.60</td>\n",
       "      <td>0.02</td>\n",
       "    </tr>\n",
       "    <tr>\n",
       "      <th>17</th>\n",
       "      <td>Depreciation period, years_7</td>\n",
       "      <td>6.60</td>\n",
       "      <td>0.02</td>\n",
       "    </tr>\n",
       "    <tr>\n",
       "      <th>19</th>\n",
       "      <td>Data retention, years_7</td>\n",
       "      <td>4.49</td>\n",
       "      <td>0.05</td>\n",
       "    </tr>\n",
       "    <tr>\n",
       "      <th>10</th>\n",
       "      <td>Type_OLTP</td>\n",
       "      <td>3.37</td>\n",
       "      <td>0.08</td>\n",
       "    </tr>\n",
       "    <tr>\n",
       "      <th>13</th>\n",
       "      <td>Backup retention, month_0</td>\n",
       "      <td>3.32</td>\n",
       "      <td>0.09</td>\n",
       "    </tr>\n",
       "    <tr>\n",
       "      <th>15</th>\n",
       "      <td>Depreciation period, years_0</td>\n",
       "      <td>3.32</td>\n",
       "      <td>0.09</td>\n",
       "    </tr>\n",
       "    <tr>\n",
       "      <th>18</th>\n",
       "      <td>Data retention, years_0</td>\n",
       "      <td>3.32</td>\n",
       "      <td>0.09</td>\n",
       "    </tr>\n",
       "    <tr>\n",
       "      <th>14</th>\n",
       "      <td>Backup retention, month_1</td>\n",
       "      <td>3.32</td>\n",
       "      <td>0.09</td>\n",
       "    </tr>\n",
       "    <tr>\n",
       "      <th>9</th>\n",
       "      <td>Type_Mixed</td>\n",
       "      <td>0.52</td>\n",
       "      <td>0.48</td>\n",
       "    </tr>\n",
       "    <tr>\n",
       "      <th>5</th>\n",
       "      <td>Stage_Stby</td>\n",
       "      <td>0.47</td>\n",
       "      <td>0.50</td>\n",
       "    </tr>\n",
       "    <tr>\n",
       "      <th>6</th>\n",
       "      <td>Stage_Test</td>\n",
       "      <td>0.47</td>\n",
       "      <td>0.50</td>\n",
       "    </tr>\n",
       "    <tr>\n",
       "      <th>4</th>\n",
       "      <td>Stage_Stage</td>\n",
       "      <td>0.47</td>\n",
       "      <td>0.50</td>\n",
       "    </tr>\n",
       "    <tr>\n",
       "      <th>16</th>\n",
       "      <td>Depreciation period, years_5</td>\n",
       "      <td>0.26</td>\n",
       "      <td>0.61</td>\n",
       "    </tr>\n",
       "    <tr>\n",
       "      <th>3</th>\n",
       "      <td>Stage_Prod</td>\n",
       "      <td>0.26</td>\n",
       "      <td>0.61</td>\n",
       "    </tr>\n",
       "    <tr>\n",
       "      <th>2</th>\n",
       "      <td>Stage_Dev</td>\n",
       "      <td>0.26</td>\n",
       "      <td>0.61</td>\n",
       "    </tr>\n",
       "    <tr>\n",
       "      <th>20</th>\n",
       "      <td>Data retention, years_20</td>\n",
       "      <td>0.07</td>\n",
       "      <td>0.79</td>\n",
       "    </tr>\n",
       "    <tr>\n",
       "      <th>12</th>\n",
       "      <td>Data Keep, years_20</td>\n",
       "      <td>0.03</td>\n",
       "      <td>0.87</td>\n",
       "    </tr>\n",
       "    <tr>\n",
       "      <th>11</th>\n",
       "      <td>Data Keep, years_2</td>\n",
       "      <td>0.03</td>\n",
       "      <td>0.87</td>\n",
       "    </tr>\n",
       "    <tr>\n",
       "      <th>8</th>\n",
       "      <td>Type_DWH</td>\n",
       "      <td>0.02</td>\n",
       "      <td>0.89</td>\n",
       "    </tr>\n",
       "    <tr>\n",
       "      <th>1</th>\n",
       "      <td>Stage_Bkp</td>\n",
       "      <td>0.02</td>\n",
       "      <td>0.90</td>\n",
       "    </tr>\n",
       "  </tbody>\n",
       "</table>\n",
       "</div>"
      ],
      "text/plain": [
       "                         Feature  F_Value  P_Value\n",
       "0                     Stage_Arch    11.86     0.00\n",
       "7                       Type_Bkp     6.60     0.02\n",
       "17  Depreciation period, years_7     6.60     0.02\n",
       "19       Data retention, years_7     4.49     0.05\n",
       "10                     Type_OLTP     3.37     0.08\n",
       "13     Backup retention, month_0     3.32     0.09\n",
       "15  Depreciation period, years_0     3.32     0.09\n",
       "18       Data retention, years_0     3.32     0.09\n",
       "14     Backup retention, month_1     3.32     0.09\n",
       "9                     Type_Mixed     0.52     0.48\n",
       "5                     Stage_Stby     0.47     0.50\n",
       "6                     Stage_Test     0.47     0.50\n",
       "4                    Stage_Stage     0.47     0.50\n",
       "16  Depreciation period, years_5     0.26     0.61\n",
       "3                     Stage_Prod     0.26     0.61\n",
       "2                      Stage_Dev     0.26     0.61\n",
       "20      Data retention, years_20     0.07     0.79\n",
       "12           Data Keep, years_20     0.03     0.87\n",
       "11            Data Keep, years_2     0.03     0.87\n",
       "8                       Type_DWH     0.02     0.89\n",
       "1                      Stage_Bkp     0.02     0.90"
      ]
     },
     "execution_count": 294,
     "metadata": {},
     "output_type": "execute_result"
    }
   ],
   "source": [
    "y = data2_encoded['Size, Gb']\n",
    "X = data2_encoded.drop('Size, Gb', axis=1)\n",
    "f_values, p_values = f_regression(X, y)\n",
    "anova_scores = pd.DataFrame({'Feature': X.columns, 'F_Value': f_values, 'P_Value': p_values})\n",
    "anova_scores = anova_scores.sort_values(by='F_Value', ascending=False)\n",
    "anova_scores"
   ]
  },
  {
   "cell_type": "markdown",
   "metadata": {},
   "source": [
    "Wrapper Method:"
   ]
  },
  {
   "cell_type": "markdown",
   "metadata": {},
   "source": [
    "Recursive Feature Elimination (RFE)"
   ]
  },
  {
   "cell_type": "markdown",
   "metadata": {},
   "source": [
    " It works by recursively fitting the model and eliminating the least significant features based on their importance ranking until the desired number of features is reached. It's generally used in combination with models that provide feature importance (like Linear Regression, Random Forest, etc.)."
   ]
  },
  {
   "cell_type": "code",
   "execution_count": 295,
   "metadata": {},
   "outputs": [
    {
     "data": {
      "text/plain": [
       "Index(['ACCOUNTS_ALL', 'Non_kept_size', 'Backup_size', 'Backup_Efficiency',\n",
       "       'Kept_size'],\n",
       "      dtype='object')"
      ]
     },
     "execution_count": 295,
     "metadata": {},
     "output_type": "execute_result"
    }
   ],
   "source": [
    "estimator = LinearRegression()\n",
    "selector = RFE(estimator, n_features_to_select=num_features)\n",
    "\n",
    "y = data['SIZE']\n",
    "X = data_norm_stand.drop('SIZE', axis=1)\n",
    "\n",
    "selector = selector.fit(X, y)\n",
    "selected_features = X.columns[selector.support_]\n",
    "selected_features"
   ]
  },
  {
   "cell_type": "markdown",
   "metadata": {},
   "source": [
    "Recursive Feature Elimination (RFE) for categorical data:"
   ]
  },
  {
   "cell_type": "code",
   "execution_count": 296,
   "metadata": {},
   "outputs": [
    {
     "data": {
      "text/plain": [
       "Index(['Stage_Arch', 'Type_DWH', 'Type_Mixed', 'Type_OLTP',\n",
       "       'Data Keep, years_2'],\n",
       "      dtype='object')"
      ]
     },
     "execution_count": 296,
     "metadata": {},
     "output_type": "execute_result"
    }
   ],
   "source": [
    "estimator = LinearRegression()\n",
    "selector = RFE(estimator, n_features_to_select=num_features)\n",
    "\n",
    "y = data2_encoded['Size, Gb']\n",
    "X = data2_encoded.drop('Size, Gb', axis=1)\n",
    "\n",
    "selector = selector.fit(X, y)\n",
    "selected_features = X.columns[selector.support_]\n",
    "selected_features"
   ]
  },
  {
   "cell_type": "markdown",
   "metadata": {},
   "source": [
    "Random Forest Feature Importance (Tree-based method)"
   ]
  },
  {
   "cell_type": "markdown",
   "metadata": {},
   "source": [
    "Feature Importance from Random Forest can be influenced by the scale of numerical features. Random Forests are not sensitive to feature scaling, but for interpretability purposes, using standardized data might be preferred. Standardization could lead to features having equal weight and better interpretability in this context."
   ]
  },
  {
   "cell_type": "markdown",
   "metadata": {},
   "source": [
    "Random Forests can measure feature importance by analyzing how much each feature contributes to decreasing impurity (Gini/entropy) in decision trees within the forest."
   ]
  },
  {
   "cell_type": "code",
   "execution_count": 297,
   "metadata": {},
   "outputs": [
    {
     "name": "stdout",
     "output_type": "stream",
     "text": [
      "             Feature  Importance\n",
      "1       ACCOUNTS_ALL        0.27\n",
      "0           LOAD_TPD        0.23\n",
      "2    ACCOUNTS_ACTIVE        0.18\n",
      "8          Kept_size        0.15\n",
      "6         Active_All        0.04\n",
      "7  Backup_Efficiency        0.04\n",
      "3      Non_kept_size        0.03\n",
      "5        LongOps_min        0.03\n",
      "4        Backup_size        0.02\n"
     ]
    }
   ],
   "source": [
    "rf = RandomForestRegressor(n_estimators=100, random_state=42)\n",
    "y = data_norm_stand['SIZE']\n",
    "X = data_norm_stand.drop('SIZE', axis=1)\n",
    "rf.fit(X, y)\n",
    "importances = rf.feature_importances_\n",
    "feature_importances = pd.DataFrame({'Feature': X.columns, 'Importance': importances})\n",
    "feature_importances = feature_importances.sort_values(by='Importance', ascending=False)\n",
    "print(feature_importances)"
   ]
  },
  {
   "cell_type": "markdown",
   "metadata": {},
   "source": [
    "Random Forest for categoricals"
   ]
  },
  {
   "cell_type": "code",
   "execution_count": 298,
   "metadata": {},
   "outputs": [
    {
     "name": "stdout",
     "output_type": "stream",
     "text": [
      "                         Feature  Importance\n",
      "0                     Stage_Arch        0.55\n",
      "10                     Type_OLTP        0.18\n",
      "19       Data retention, years_7        0.07\n",
      "7                       Type_Bkp        0.04\n",
      "1                      Stage_Bkp        0.04\n",
      "8                       Type_DWH        0.03\n",
      "17  Depreciation period, years_7        0.03\n",
      "9                     Type_Mixed        0.03\n",
      "11            Data Keep, years_2        0.01\n",
      "3                     Stage_Prod        0.01\n",
      "20      Data retention, years_20        0.01\n",
      "16  Depreciation period, years_5        0.01\n",
      "13     Backup retention, month_0        0.00\n",
      "12           Data Keep, years_20        0.00\n",
      "14     Backup retention, month_1        0.00\n",
      "15  Depreciation period, years_0        0.00\n",
      "18       Data retention, years_0        0.00\n",
      "6                     Stage_Test        0.00\n",
      "5                     Stage_Stby        0.00\n",
      "4                    Stage_Stage        0.00\n",
      "2                      Stage_Dev        0.00\n"
     ]
    }
   ],
   "source": [
    "y = data2_encoded['Size, Gb']\n",
    "X = data2_encoded.drop('Size, Gb', axis=1)\n",
    "\n",
    "rf = RandomForestRegressor(n_estimators=100, random_state=42)\n",
    "rf.fit(X, y)\n",
    "importances = rf.feature_importances_\n",
    "feature_importances = pd.DataFrame({'Feature': X.columns, 'Importance': importances})\n",
    "feature_importances = feature_importances.sort_values(by='Importance', ascending=False)\n",
    "print(feature_importances)"
   ]
  },
  {
   "cell_type": "markdown",
   "metadata": {},
   "source": [
    "Lasso, Ridge, and Elastic Net:"
   ]
  },
  {
   "cell_type": "markdown",
   "metadata": {},
   "source": [
    "These are regularization techniques commonly used in linear models. They introduce penalties to the model's coefficients during training, which encourages sparsity by shrinking or eliminating the coefficients of less important features. They perform feature selection as a part of their learning process."
   ]
  },
  {
   "cell_type": "markdown",
   "metadata": {},
   "source": [
    "Lasso (L1 regularization) penalizes the absolute size of coefficients, effectively performing feature selection by shrinking some coefficients to zero. This can help identify important features."
   ]
  },
  {
   "cell_type": "markdown",
   "metadata": {},
   "source": [
    "Ridge (L2 regularization) penalizes the squared size of coefficients, limiting their overall size, but rarely setting them to zero. It's helpful when you believe most of your features are relevant."
   ]
  },
  {
   "cell_type": "markdown",
   "metadata": {},
   "source": [
    "Elastic Net combines both L1 and L2 regularization. It works well when you have a large number of features and some of them are correlated."
   ]
  },
  {
   "cell_type": "markdown",
   "metadata": {},
   "source": [
    "Initialize and fit Lasso with original data"
   ]
  },
  {
   "cell_type": "code",
   "execution_count": 299,
   "metadata": {},
   "outputs": [],
   "source": [
    "y = data['SIZE']\n",
    "X = data.drop('SIZE', axis=1)\n",
    "X_train, X_test, y_train, y_test = train_test_split(X, y, test_size=0.2, random_state=55)"
   ]
  },
  {
   "cell_type": "code",
   "execution_count": 300,
   "metadata": {},
   "outputs": [
    {
     "name": "stdout",
     "output_type": "stream",
     "text": [
      "Mean RMSE: 24.451901252388588\n",
      "Standard Deviation of RMSE: 9.480103508120399\n",
      "\n",
      "Dropped Features:\n",
      "6           Active_All\n",
      "7    Backup_Efficiency\n",
      "Name: Feature, dtype: object\n",
      "\n",
      "Kept Features:\n",
      "0           LOAD_TPD\n",
      "1       ACCOUNTS_ALL\n",
      "2    ACCOUNTS_ACTIVE\n",
      "3      Non_kept_size\n",
      "4        Backup_size\n",
      "5        LongOps_min\n",
      "8          Kept_size\n",
      "Name: Feature, dtype: object\n"
     ]
    }
   ],
   "source": [
    "lasso = Lasso(alpha=0.5)  \n",
    "lasso.fit(X_train, y_train)\n",
    "\n",
    "lasso_coefficients = lasso.coef_\n",
    "feature_names = X.columns.tolist()\n",
    "feature_coefficients = pd.DataFrame({'Feature': feature_names, 'Coefficient': lasso_coefficients})\n",
    "dropped_features = feature_coefficients[feature_coefficients['Coefficient'] == 0]['Feature']\n",
    "kept_features = feature_coefficients[feature_coefficients['Coefficient'] != 0]['Feature']\n",
    "\n",
    "scores = cross_val_score(lasso, X_train, y_train, cv=5, scoring='neg_root_mean_squared_error')\n",
    "rmse_scores = -scores\n",
    "\n",
    "print(\"Mean RMSE:\", rmse_scores.mean())\n",
    "print(\"Standard Deviation of RMSE:\", rmse_scores.std())\n",
    "\n",
    "print(\"\\nDropped Features:\")\n",
    "print(dropped_features)\n",
    "\n",
    "print(\"\\nKept Features:\")\n",
    "print(kept_features)"
   ]
  },
  {
   "cell_type": "markdown",
   "metadata": {},
   "source": [
    "Initialize and fit Lasso with standardized data"
   ]
  },
  {
   "cell_type": "code",
   "execution_count": 301,
   "metadata": {},
   "outputs": [],
   "source": [
    "ys = data_norm_stand['SIZE']\n",
    "Xs = data_norm_stand.drop('SIZE', axis=1)\n",
    "Xs_train, Xs_test, ys_train, ys_test = train_test_split(Xs, ys, test_size=0.2, random_state=55)"
   ]
  },
  {
   "cell_type": "code",
   "execution_count": 302,
   "metadata": {},
   "outputs": [],
   "source": [
    "Xs_train, Xs_test, ys_train, ys_test = train_test_split(Xs, ys, test_size=0.2, random_state=55)"
   ]
  },
  {
   "cell_type": "code",
   "execution_count": 303,
   "metadata": {},
   "outputs": [
    {
     "name": "stdout",
     "output_type": "stream",
     "text": [
      "Mean MSE: 10.774807017712543\n",
      "Standard Deviation of MSE: 4.382960914492141\n",
      "\n",
      "Dropped Features:\n",
      "2    ACCOUNTS_ACTIVE\n",
      "5        LongOps_min\n",
      "Name: Feature, dtype: object\n",
      "\n",
      "Kept Features:\n",
      "0             LOAD_TPD\n",
      "1         ACCOUNTS_ALL\n",
      "3        Non_kept_size\n",
      "4          Backup_size\n",
      "6           Active_All\n",
      "7    Backup_Efficiency\n",
      "8            Kept_size\n",
      "Name: Feature, dtype: object\n"
     ]
    }
   ],
   "source": [
    "lasso = Lasso(alpha=0.5)  \n",
    "lasso.fit(Xs_train, ys_train)\n",
    "\n",
    "lasso_coefficients = lasso.coef_\n",
    "feature_names = Xs.columns.tolist()\n",
    "feature_coefficients = pd.DataFrame({'Feature': feature_names, 'Coefficient': lasso_coefficients})\n",
    "dropped_features = feature_coefficients[feature_coefficients['Coefficient'] == 0]['Feature']\n",
    "kept_features = feature_coefficients[feature_coefficients['Coefficient'] != 0]['Feature']\n",
    "\n",
    "scores = cross_val_score(lasso, Xs_train, ys_train, cv=5, scoring='neg_root_mean_squared_error')\n",
    "rmse_scores = -scores\n",
    "\n",
    "print(\"Mean MSE:\", rmse_scores.mean())\n",
    "print(\"Standard Deviation of MSE:\", rmse_scores.std())\n",
    "\n",
    "print(\"\\nDropped Features:\")\n",
    "print(dropped_features)\n",
    "\n",
    "print(\"\\nKept Features:\")\n",
    "print(kept_features)"
   ]
  },
  {
   "cell_type": "markdown",
   "metadata": {},
   "source": [
    "Initialize and fit Ridge"
   ]
  },
  {
   "cell_type": "code",
   "execution_count": 304,
   "metadata": {},
   "outputs": [],
   "source": [
    "pd.set_option('display.float_format', lambda x: '%.10f' % x)"
   ]
  },
  {
   "cell_type": "code",
   "execution_count": 305,
   "metadata": {},
   "outputs": [
    {
     "name": "stdout",
     "output_type": "stream",
     "text": [
      "Mean RMSE: 0.016868618076120584\n",
      "Standard Deviation of RMSE: 0.007866987256212363\n",
      "\n",
      "Ridge Coefficients:\n",
      "             Feature   Coefficient\n",
      "8          Kept_size  0.9994456656\n",
      "3      Non_kept_size  0.9949121455\n",
      "4        Backup_size  0.0008910016\n",
      "5        LongOps_min  0.0000423301\n",
      "1       ACCOUNTS_ALL  0.0000003031\n",
      "0           LOAD_TPD -0.0000000016\n",
      "2    ACCOUNTS_ACTIVE -0.0000000605\n",
      "6         Active_All -0.0001913706\n",
      "7  Backup_Efficiency -0.0003334751\n",
      "\n",
      "Ridge Intercept:\n",
      "-0.249002596920036\n"
     ]
    }
   ],
   "source": [
    "ridge = Ridge(alpha=0.5, random_state=55)  \n",
    "ridge.fit(X_train, y_train)\n",
    "\n",
    "ridge_coefficients = ridge.coef_\n",
    "ridge_intercept = ridge.intercept_\n",
    "\n",
    "feature_names = Xs.columns.tolist()\n",
    "feature_coefficients = pd.DataFrame({'Feature': feature_names, 'Coefficient': ridge_coefficients})\n",
    "\n",
    "scores = cross_val_score(ridge, X_train, y_train, cv=5, scoring='neg_root_mean_squared_error')\n",
    "rmse_scores = -scores\n",
    "\n",
    "print(\"Mean RMSE:\", rmse_scores.mean())\n",
    "print(\"Standard Deviation of RMSE:\", rmse_scores.std())\n",
    "\n",
    "\n",
    "print(\"\\nRidge Coefficients:\")\n",
    "feature_coefficients = feature_coefficients.sort_values(by='Coefficient', ascending=False)\n",
    "print(feature_coefficients)\n",
    "\n",
    "print(\"\\nRidge Intercept:\")\n",
    "print(ridge_intercept)\n"
   ]
  },
  {
   "cell_type": "markdown",
   "metadata": {},
   "source": [
    "Initialize and fit Elastic Net"
   ]
  },
  {
   "cell_type": "code",
   "execution_count": 306,
   "metadata": {},
   "outputs": [
    {
     "name": "stdout",
     "output_type": "stream",
     "text": [
      "Mean RMSE: 124.00440267745985\n",
      "Standard Deviation of RMSE: 25.968418499514115\n",
      "\n",
      "Elastic Net Alpha (Regularization Parameter): 16580600.000000002\n",
      "Elastic Net L1 Ratio (Mixing Parameter): 0.5\n",
      "Elastic Net Coefficients:\n",
      "             Feature   Coefficient\n",
      "1       ACCOUNTS_ALL  0.0014149449\n",
      "2    ACCOUNTS_ACTIVE  0.0003410720\n",
      "3      Non_kept_size  0.0000000000\n",
      "4        Backup_size  0.0000000000\n",
      "5        LongOps_min  0.0000000000\n",
      "6         Active_All  0.0000000000\n",
      "7  Backup_Efficiency -0.0000000000\n",
      "8          Kept_size  0.0000000000\n",
      "0           LOAD_TPD -0.0000053243\n",
      "Elastic Net Intercept: 3598.2722311385273\n"
     ]
    }
   ],
   "source": [
    "elastic_net = ElasticNetCV(cv=5, random_state=55)\n",
    "elastic_net.fit(X_train, y_train)\n",
    "\n",
    "scores = cross_val_score(elastic_net, X_train, y_train, cv=5, scoring='neg_root_mean_squared_error')\n",
    "rmse_scores = -scores\n",
    "\n",
    "print(\"Mean RMSE:\", rmse_scores.mean())\n",
    "print(\"Standard Deviation of RMSE:\", rmse_scores.std())\n",
    "\n",
    "print(\"\\nElastic Net Alpha (Regularization Parameter):\", elastic_net.alpha_)\n",
    "print(\"Elastic Net L1 Ratio (Mixing Parameter):\", elastic_net.l1_ratio_)\n",
    "print(\"Elastic Net Coefficients:\")\n",
    "elastic_net_coefficients = pd.DataFrame({'Feature': X.columns, 'Coefficient': elastic_net.coef_})\n",
    "elastic_net_coefficients = elastic_net_coefficients.sort_values(by='Coefficient', ascending=False)\n",
    "print(elastic_net_coefficients)\n",
    "print(\"Elastic Net Intercept:\", elastic_net.intercept_)\n"
   ]
  },
  {
   "cell_type": "markdown",
   "metadata": {},
   "source": [
    "Categorical Data"
   ]
  },
  {
   "cell_type": "markdown",
   "metadata": {},
   "source": [
    "Lasso:"
   ]
  },
  {
   "cell_type": "code",
   "execution_count": 307,
   "metadata": {},
   "outputs": [],
   "source": [
    "yc = data2['Size, Gb']\n",
    "Xc = data2_encoded.drop('Size, Gb', axis=1)\n",
    "Xc_train, Xc_test, yc_train, yc_test = train_test_split(Xc, yc, test_size=0.2, random_state=66)\n"
   ]
  },
  {
   "cell_type": "code",
   "execution_count": 308,
   "metadata": {},
   "outputs": [
    {
     "name": "stdout",
     "output_type": "stream",
     "text": [
      "Mean MSE: 6817.485376751048\n",
      "Standard Deviation of MSE: 7327.548383815023\n",
      "\n",
      "Dropped Features:\n",
      "2                        Stage_Dev\n",
      "3                       Stage_Prod\n",
      "4                      Stage_Stage\n",
      "5                       Stage_Stby\n",
      "6                       Stage_Test\n",
      "9                       Type_Mixed\n",
      "11              Data Keep, years_2\n",
      "12             Data Keep, years_20\n",
      "13       Backup retention, month_0\n",
      "14       Backup retention, month_1\n",
      "15    Depreciation period, years_0\n",
      "16    Depreciation period, years_5\n",
      "17    Depreciation period, years_7\n",
      "18         Data retention, years_0\n",
      "19         Data retention, years_7\n",
      "20        Data retention, years_20\n",
      "Name: Feature, dtype: object\n",
      "\n",
      "Kept Features:\n",
      "0     Stage_Arch\n",
      "1      Stage_Bkp\n",
      "7       Type_Bkp\n",
      "8       Type_DWH\n",
      "10     Type_OLTP\n",
      "Name: Feature, dtype: object\n"
     ]
    }
   ],
   "source": [
    "lasso = Lasso(alpha=0.5, random_state=66)  \n",
    "lasso.fit(Xc_train, yc_train)\n",
    "\n",
    "lasso_coefficients = lasso.coef_\n",
    "feature_names = Xc.columns.tolist()\n",
    "feature_coefficients = pd.DataFrame({'Feature': feature_names, 'Coefficient': lasso_coefficients})\n",
    "dropped_features = feature_coefficients[feature_coefficients['Coefficient'] == 0]['Feature']\n",
    "kept_features = feature_coefficients[feature_coefficients['Coefficient'] != 0]['Feature']\n",
    "\n",
    "scores = cross_val_score(lasso, Xc_train, yc_train, cv=5, scoring='neg_root_mean_squared_error')\n",
    "rmse_scores = -scores\n",
    "\n",
    "print(\"Mean MSE:\", rmse_scores.mean())\n",
    "print(\"Standard Deviation of MSE:\", rmse_scores.std())\n",
    "\n",
    "print(\"\\nDropped Features:\")\n",
    "print(dropped_features)\n",
    "\n",
    "print(\"\\nKept Features:\")\n",
    "print(kept_features)"
   ]
  },
  {
   "cell_type": "markdown",
   "metadata": {},
   "source": [
    "Ridge for categorical"
   ]
  },
  {
   "cell_type": "code",
   "execution_count": 309,
   "metadata": {},
   "outputs": [
    {
     "name": "stdout",
     "output_type": "stream",
     "text": [
      "Mean MSE: 6817.485376751048\n",
      "Standard Deviation of MSE: 7327.548383815023\n",
      "\n",
      "Ridge Coefficients:\n",
      "                         Feature      Coefficient\n",
      "0                     Stage_Arch 12594.6849967063\n",
      "7                       Type_Bkp  4213.7602373151\n",
      "17  Depreciation period, years_7  4213.7602373151\n",
      "14     Backup retention, month_1  1255.1195913948\n",
      "12           Data Keep, years_20  1100.1085432288\n",
      "8                       Type_DWH  1100.1085432288\n",
      "19       Data retention, years_7   665.2913719787\n",
      "20      Data retention, years_20   589.8282194161\n",
      "2                      Stage_Dev  -302.9973120649\n",
      "6                     Stage_Test  -312.4129521132\n",
      "4                    Stage_Stage  -312.4129521132\n",
      "5                     Stage_Stby  -327.2963751036\n",
      "9                     Type_Mixed  -680.3723082147\n",
      "11            Data Keep, years_2 -1100.1085432288\n",
      "13     Backup retention, month_0 -1255.1195913948\n",
      "15  Depreciation period, years_0 -1255.1195913948\n",
      "18       Data retention, years_0 -1255.1195913948\n",
      "16  Depreciation period, years_5 -2958.6406459203\n",
      "3                     Stage_Prod -2958.6406459203\n",
      "10                     Type_OLTP -4633.4964723292\n",
      "1                      Stage_Bkp -8380.9247593912\n",
      "\n",
      "Ridge Intercept:\n",
      "13842.624983601143\n"
     ]
    }
   ],
   "source": [
    "ridge = Ridge(alpha=0.05, random_state=66)  \n",
    "ridge.fit(Xc_train, yc_train)\n",
    "\n",
    "ridge_coefficients = ridge.coef_\n",
    "ridge_intercept = ridge.intercept_\n",
    "\n",
    "# Create a DataFrame to map feature names to their coefficients\n",
    "feature_names = Xc.columns.tolist()\n",
    "feature_coefficients = pd.DataFrame({'Feature': feature_names, 'Coefficient': ridge_coefficients})\n",
    "\n",
    "scores = cross_val_score(lasso, Xc_train, yc_train, cv=5, scoring='neg_root_mean_squared_error')\n",
    "rmse_scores = -scores\n",
    "\n",
    "print(\"Mean MSE:\", rmse_scores.mean())\n",
    "print(\"Standard Deviation of MSE:\", rmse_scores.std())\n",
    "\n",
    "\n",
    "print(\"\\nRidge Coefficients:\")\n",
    "feature_coefficients = feature_coefficients.sort_values(by='Coefficient', ascending=False)\n",
    "print(feature_coefficients)\n",
    "\n",
    "print(\"\\nRidge Intercept:\")\n",
    "print(ridge_intercept)"
   ]
  },
  {
   "cell_type": "markdown",
   "metadata": {},
   "source": [
    "Elastic Net for categorical"
   ]
  },
  {
   "cell_type": "code",
   "execution_count": 310,
   "metadata": {},
   "outputs": [
    {
     "name": "stdout",
     "output_type": "stream",
     "text": [
      "Mean MSE: 6817.485376751048\n",
      "Standard Deviation of MSE: 7327.548383815023\n",
      "\n",
      "Elastic Net Alpha (Regularization Parameter): 7.530612244897959\n",
      "Elastic Net L1 Ratio (Mixing Parameter): 0.5\n",
      "Elastic Net Coefficients:\n",
      "                         Feature     Coefficient\n",
      "0                     Stage_Arch  774.0558335898\n",
      "17  Depreciation period, years_7  763.1431167275\n",
      "7                       Type_Bkp  763.1412498281\n",
      "19       Data retention, years_7  520.8467898273\n",
      "14     Backup retention, month_1  515.0209745790\n",
      "12           Data Keep, years_20   18.6116042777\n",
      "8                       Type_DWH   18.6110636789\n",
      "20      Data retention, years_20   -4.8286584799\n",
      "1                      Stage_Bkp   -9.9182388967\n",
      "11            Data Keep, years_2  -18.6115932734\n",
      "2                      Stage_Dev  -87.3249885761\n",
      "5                     Stage_Stby -112.2918822783\n",
      "6                     Stage_Test -156.1987989489\n",
      "4                    Stage_Stage -156.1989908951\n",
      "9                     Type_Mixed -175.7691555506\n",
      "16  Depreciation period, years_5 -247.1238910311\n",
      "3                     Stage_Prod -247.1242120712\n",
      "18       Data retention, years_0 -515.0185478947\n",
      "15  Depreciation period, years_0 -515.0200781747\n",
      "13     Backup retention, month_0 -515.0205822224\n",
      "10                     Type_OLTP -605.9855452895\n",
      "Elastic Net Intercept: 12254.086687484974\n"
     ]
    }
   ],
   "source": [
    "elastic_net = ElasticNetCV(cv=5, random_state=66)\n",
    "elastic_net.fit(Xc_train, yc_train)\n",
    "\n",
    "scores = cross_val_score(lasso, Xc_train, yc_train, cv=5, scoring='neg_root_mean_squared_error')\n",
    "rmse_scores = -scores\n",
    "\n",
    "print(\"Mean MSE:\", rmse_scores.mean())\n",
    "print(\"Standard Deviation of MSE:\", rmse_scores.std())\n",
    "\n",
    "print(\"\\nElastic Net Alpha (Regularization Parameter):\", elastic_net.alpha_)\n",
    "print(\"Elastic Net L1 Ratio (Mixing Parameter):\", elastic_net.l1_ratio_)\n",
    "print(\"Elastic Net Coefficients:\")\n",
    "elastic_net_coefficients = pd.DataFrame({'Feature': Xc.columns, 'Coefficient': elastic_net.coef_})\n",
    "elastic_net_coefficients = elastic_net_coefficients.sort_values(by='Coefficient', ascending=False)\n",
    "print(elastic_net_coefficients)\n",
    "print(\"Elastic Net Intercept:\", elastic_net.intercept_)"
   ]
  },
  {
   "cell_type": "code",
   "execution_count": 311,
   "metadata": {},
   "outputs": [],
   "source": [
    "data_num_ch = {\n",
    "    'Feature': ['ACCOUNTS_ACTIVE', 'ACCOUNTS_ALL', 'LOAD_TPD', \n",
    "                'Non_kept_size', 'Backup_size', 'Kept_size', \n",
    "                'Active_All', 'Backup_Efficiency', 'LongOps_min'],\n",
    "    'Selected': [6, 8, 6, \n",
    "                 5, 6, 6, \n",
    "                 2, 3, 2]\n",
    "}"
   ]
  },
  {
   "cell_type": "code",
   "execution_count": 312,
   "metadata": {},
   "outputs": [
    {
     "data": {
      "image/png": "[encoded data removed]",
      "text/plain": [
       "<Figure size 600x600 with 1 Axes>"
      ]
     },
     "metadata": {},
     "output_type": "display_data"
    }
   ],
   "source": [
    "df = pd.DataFrame(data_num_ch)\n",
    "plt.figure(figsize=(6, 6))\n",
    "plt.barh(df['Feature'], df['Selected'])\n",
    "plt.xlabel('Frequency of Selection')\n",
    "plt.ylabel('Features')\n",
    "plt.title('Frequency of Feature Selection by Different Methods')\n",
    "plt.grid(axis='x', linestyle='--', alpha=0.6)\n",
    "plt.tight_layout()\n",
    "plt.show()"
   ]
  },
  {
   "cell_type": "markdown",
   "metadata": {},
   "source": [
    "Variance Inflation Factor (VIF):"
   ]
  },
  {
   "cell_type": "markdown",
   "metadata": {},
   "source": [
    "Calculate VIF scores for each feature to assess the degree of multicollinearity. High VIF scores (typically above 5 or 10) indicate strong multicollinearity and may suggest dropping one of the correlated features."
   ]
  },
  {
   "cell_type": "code",
   "execution_count": 317,
   "metadata": {},
   "outputs": [
    {
     "data": {
      "text/plain": [
       "LOAD_TPD               48.63\n",
       "ACCOUNTS_ALL        28764.48\n",
       "ACCOUNTS_ACTIVE     25290.57\n",
       "Non_kept_size        1101.61\n",
       "Backup_size          6065.83\n",
       "LongOps_min            11.17\n",
       "Active_All             49.02\n",
       "Backup_Efficiency    2041.49\n",
       "Kept_size           21340.01\n",
       "const                   1.00\n",
       "dtype: float64"
      ]
     },
     "execution_count": 317,
     "metadata": {},
     "output_type": "execute_result"
    }
   ],
   "source": [
    "X = data_norm_stand.drop('SIZE', axis=1)\n",
    "# X = X.drop('ACCOUNTS_ALL', axis=1)\n",
    "# X = X.drop('Kept_size', axis=1)\n",
    "# X = X.drop('Active_All', axis=1)\n",
    "# X = X.drop('Non_kept_size', axis=1)\n",
    "# X = X.drop('Backup_Efficiency', axis=1)\n",
    "# X = X.drop('ACCOUNTS_ACTIVE', axis=1)\n",
    "vif_data = X.assign(const=1) \n",
    "vif_series = pd.Series([variance_inflation_factor(vif_data.values, i) for i in range(vif_data.shape[1])], index=vif_data.columns)\n",
    "pd.options.display.float_format = '{:.2f}'.format\n",
    "vif_series"
   ]
  },
  {
   "cell_type": "code",
   "execution_count": 314,
   "metadata": {},
   "outputs": [
    {
     "name": "stdout",
     "output_type": "stream",
     "text": [
      "Explained Variance: [7.42944656 1.30555089]\n",
      "Explained Variance Ratio: [0.80898418 0.14215999]\n",
      "Principal Components: [[ 0.3592086   0.36568725  0.3665476  -0.20349049  0.2901486  -0.34627587\n",
      "   0.32284741 -0.34638273  0.3649272 ]\n",
      " [ 0.04574803  0.12114132  0.11162262  0.73621422  0.54421942  0.17419193\n",
      "   0.01110362  0.29134674  0.13129012]]\n",
      "Singular Values: [19.07990779  7.9982494 ]\n",
      "   LOAD_TPD  ACCOUNTS_ALL  ACCOUNTS_ACTIVE  Non_kept_size  Backup_size  \\\n",
      "0      0.36          0.37             0.37          -0.20         0.29   \n",
      "1      0.05          0.12             0.11           0.74         0.54   \n",
      "\n",
      "   LongOps_min  Active_All  Backup_Efficiency  Kept_size  \n",
      "0        -0.35        0.32              -0.35       0.36  \n",
      "1         0.17        0.01               0.29       0.13  \n"
     ]
    }
   ],
   "source": [
    "X = data_norm_stand.drop('SIZE', axis=1)\n",
    "pca = PCA(n_components=2)  \n",
    "X_pca = pca.fit_transform(X) \n",
    "explained_variance = pca.explained_variance_\n",
    "explained_variance_ratio = pca.explained_variance_ratio_\n",
    "principal_components = pca.components_\n",
    "singular_values = pca.singular_values_\n",
    "feature_names = X.columns\n",
    "\n",
    "print(\"Explained Variance:\", explained_variance)\n",
    "print(\"Explained Variance Ratio:\", explained_variance_ratio)\n",
    "print(\"Principal Components:\", principal_components)\n",
    "print(\"Singular Values:\", singular_values)\n",
    "principal_features = pd.DataFrame(principal_components, columns=feature_names)\n",
    "print(principal_features)"
   ]
  }
 ],
 "metadata": {
  "kernelspec": {
   "display_name": "Python 3",
   "language": "python",
   "name": "python3"
  },
  "language_info": {
   "codemirror_mode": {
    "name": "ipython",
    "version": 3
   },
   "file_extension": ".py",
   "mimetype": "text/x-python",
   "name": "python",
   "nbconvert_exporter": "python",
   "pygments_lexer": "ipython3",
   "version": "3.10.7"
  }
 },
 "nbformat": 4,
 "nbformat_minor": 2
}
